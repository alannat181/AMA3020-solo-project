{
  "nbformat": 4,
  "nbformat_minor": 0,
  "metadata": {
    "colab": {
      "provenance": [],
      "authorship_tag": "ABX9TyPqqqz4qKx6/9BwYRvQhMms",
      "include_colab_link": true
    },
    "kernelspec": {
      "name": "python3",
      "display_name": "Python 3"
    },
    "language_info": {
      "name": "python"
    }
  },
  "cells": [
    {
      "cell_type": "markdown",
      "metadata": {
        "id": "view-in-github",
        "colab_type": "text"
      },
      "source": [
        "<a href=\"https://colab.research.google.com/github/alannat181/AMA3020-solo-project/blob/main/Short_Investigation.ipynb\" target=\"_parent\"><img src=\"https://colab.research.google.com/assets/colab-badge.svg\" alt=\"Open In Colab\"/></a>"
      ]
    },
    {
      "cell_type": "code",
      "source": [
        "import numpy as np\n",
        "from scipy.optimize import linear_sum_assignment\n",
        "import random\n",
        "\n",
        "# Constants\n",
        "NUM_STUDENTS = 28\n",
        "NUM_PROJECTS = 35\n",
        "NUM_PREFERENCES = 5\n",
        "\n",
        "# Generate student preferences (each student selects 5 unique projects)\n",
        "random.seed(42)\n",
        "student_preferences = {i: random.sample(range(NUM_PROJECTS), NUM_PREFERENCES) for i in range(NUM_STUDENTS)}\n",
        "print(student_preferences)\n",
        "\n",
        "# Create a cost matrix of size (NUM_STUDENTS x NUM_PROJECTS)\n",
        "cost_matrix = np.full((NUM_STUDENTS, NUM_PROJECTS), 100)\n",
        "\n",
        "# Assign cost values based on preferences (lower value = higher preference)\n",
        "for student, projects in student_preferences.items():\n",
        "    for rank, project in enumerate(projects):\n",
        "        cost_matrix[student, project] = rank  # Rank 0 is best (lowest cost), rank 4 is worst\n",
        "\n",
        "# Apply Hungarian Algorithm\n",
        "row_ind, col_ind = linear_sum_assignment(cost_matrix)\n",
        "\n",
        "# Print student assignments\n",
        "assignments = {f\"Student {student}\": f\"Project {project}\" for student, project in zip(row_ind, col_ind)}\n",
        "\n",
        "print(\"Optimal Project Assignments:\")\n",
        "for student, project in assignments.items():\n",
        "    print(f\"{student} → {project}\")"
      ],
      "metadata": {
        "colab": {
          "base_uri": "https://localhost:8080/"
        },
        "id": "FJn1NS30que7",
        "outputId": "7d1df1fa-de6b-4b2e-cc6f-5f39c5081d94"
      },
      "execution_count": 2,
      "outputs": [
        {
          "output_type": "stream",
          "name": "stdout",
          "text": [
            "{0: [7, 1, 17, 15, 14], 1: [8, 6, 34, 5, 27], 2: [2, 1, 5, 13, 14], 3: [32, 1, 12, 34, 26], 4: [14, 28, 17, 0, 10], 5: [27, 21, 17, 9, 13], 6: [21, 6, 5, 24, 22], 7: [22, 16, 2, 29, 34], 8: [7, 24, 5, 18, 23], 9: [12, 4, 2, 14, 18], 10: [5, 14, 6, 24, 17], 11: [29, 23, 10, 22, 13], 12: [17, 4, 10, 34, 15], 13: [10, 29, 24, 17, 14], 14: [20, 3, 14, 2, 25], 15: [17, 4, 13, 20, 31], 16: [25, 29, 9, 16, 8], 17: [15, 34, 16, 27, 25], 18: [23, 14, 8, 32, 31], 19: [5, 3, 7, 9, 10], 20: [27, 4, 24, 29, 33], 21: [16, 0, 7, 34, 17], 22: [21, 7, 18, 27, 10], 23: [29, 0, 16, 32, 11], 24: [32, 6, 19, 12, 9], 25: [23, 10, 34, 33, 0], 26: [20, 31, 1, 7, 23], 27: [19, 15, 3, 5, 31]}\n",
            "Optimal Project Assignments:\n",
            "Student 0 → Project 7\n",
            "Student 1 → Project 8\n",
            "Student 2 → Project 2\n",
            "Student 3 → Project 1\n",
            "Student 4 → Project 28\n",
            "Student 5 → Project 27\n",
            "Student 6 → Project 6\n",
            "Student 7 → Project 22\n",
            "Student 8 → Project 24\n",
            "Student 9 → Project 12\n",
            "Student 10 → Project 5\n",
            "Student 11 → Project 29\n",
            "Student 12 → Project 17\n",
            "Student 13 → Project 10\n",
            "Student 14 → Project 20\n",
            "Student 15 → Project 13\n",
            "Student 16 → Project 25\n",
            "Student 17 → Project 15\n",
            "Student 18 → Project 14\n",
            "Student 19 → Project 3\n",
            "Student 20 → Project 4\n",
            "Student 21 → Project 16\n",
            "Student 22 → Project 21\n",
            "Student 23 → Project 0\n",
            "Student 24 → Project 32\n",
            "Student 25 → Project 23\n",
            "Student 26 → Project 31\n",
            "Student 27 → Project 19\n"
          ]
        }
      ]
    }
  ]
}